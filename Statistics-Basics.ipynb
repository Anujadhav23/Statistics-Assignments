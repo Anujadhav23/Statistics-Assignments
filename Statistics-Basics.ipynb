{
 "cells": [
  {
   "cell_type": "markdown",
   "id": "5d7146f6-7fb8-4380-bde5-31c0ee6152c4",
   "metadata": {},
   "source": [
    "# Statistics Basisc Assignemnt 1"
   ]
  },
  {
   "cell_type": "markdown",
   "id": "c430dc4e-4db5-498b-972f-8e70ed7c8b8e",
   "metadata": {},
   "source": [
    "# Theory Questions"
   ]
  },
  {
   "cell_type": "markdown",
   "id": "d2883927-9d38-4282-91fd-fea50ed2f850",
   "metadata": {},
   "source": [
    "# Q.1) What is statistics, and why is it important?\n",
    "Ans:\n",
    "\n",
    "Statistics is the science of collecting, organizing, analyzing, interpreting, and presenting data.\n",
    "It helps in decision-making, understanding trends, and solving real-world problems in fields like business, health, politics, education, etc."
   ]
  },
  {
   "cell_type": "markdown",
   "id": "d3e4a60a-4123-4314-80f4-f20b3693aef6",
   "metadata": {},
   "source": [
    "# Q.2)  What are the two main types of statistics?\n",
    "Ans:\n",
    "\n",
    "1) Descriptive Statistics\n",
    "\n",
    "2) Inferential Statistics"
   ]
  },
  {
   "cell_type": "markdown",
   "id": "f59462cc-fb76-494e-b1b6-1bcc2763b564",
   "metadata": {},
   "source": [
    "# Q.3) What are descriptive statistics?\n",
    "Ans:\n",
    "\n",
    "Descriptive statistics summarize and describe the main features of a dataset.\n",
    "Examples: Mean, median, mode, standard deviation, graphs, etc."
   ]
  },
  {
   "cell_type": "markdown",
   "id": "04e0bf04-64f5-4561-aaea-38c335a0b209",
   "metadata": {},
   "source": [
    "# Q.4) What is inferential statistics?\n",
    "Ans:\n",
    "\n",
    "Inferential statistics use a sample of data to make generalizations or predictions about a population.\n",
    "Example: Using a political survey of 1,000 people to predict election results."
   ]
  },
  {
   "cell_type": "markdown",
   "id": "c825802b-c228-474d-ad0e-ed6698fc14d9",
   "metadata": {},
   "source": [
    "# Q.5) What is sampling in statistics?\n",
    "Ans:\n",
    "\n",
    "Sampling is the process of selecting a subset (sample) from a larger group (population) to study and draw conclusions."
   ]
  },
  {
   "cell_type": "markdown",
   "id": "ededaad5-c98d-4ba0-bb0b-5c1bbd0c873c",
   "metadata": {},
   "source": [
    "# Q.6) What are the different types of sampling methods?\n",
    "Ans:\n",
    "\n",
    "1) Random Sampling\n",
    "\n",
    "2) Stratified Sampling\n",
    "\n",
    "3) Systematic Sampling\n",
    "\n",
    "4) Cluster Sampling\n",
    "\n",
    "5) Convenience Sampling\n",
    "\n"
   ]
  },
  {
   "cell_type": "markdown",
   "id": "053c9dc0-5625-45f0-a034-cda34c524f5f",
   "metadata": {},
   "source": [
    "# Q.7)  What is the difference between random and non-random sampling?\n",
    "Ans:\n",
    "\n",
    "- Random Sampling: Every individual has an equal chance of being selected.\n",
    "\n",
    "- Non-Random Sampling: Selection is based on ease, judgment, or criteria (not all have equal chance)."
   ]
  },
  {
   "cell_type": "markdown",
   "id": "768471de-ae8c-4ab2-b17a-8518e020b921",
   "metadata": {},
   "source": [
    "# Q.8)  Define and give examples of qualitative and quantitative data.\n",
    "Ans:\n",
    "\n",
    "- Qualitative (Categorical) Data: Describes qualities or categories.\n",
    "  Example: Gender, colors, cities.\n",
    "\n",
    "- Quantitative (Numerical) Data: Involves numbers.\n",
    "  Example: Age, height, salary."
   ]
  },
  {
   "cell_type": "markdown",
   "id": "3bce87c0-9e93-41af-8f08-7e83ff6ced6d",
   "metadata": {},
   "source": [
    "# Q.9)  What are the different types of data in statistics?\n",
    "Ans:\n",
    "\n",
    "1) Qualitative (Categorical)\n",
    "\n",
    "2) Quantitative (Numerical)\n",
    "\n",
    "- Discrete\n",
    "\n",
    "- Continuous"
   ]
  },
  {
   "cell_type": "markdown",
   "id": "7dfc20bf-ccdf-400e-8247-f24d9cc82f35",
   "metadata": {},
   "source": [
    "# Q.10)  Explain nominal, ordinal, interval, and ratio levels of measurement.\n",
    "Ans:\n",
    "\n",
    "- Nominal: Categories with no order (e.g., gender, blood group)\n",
    "\n",
    "- Ordinal: Categories with order (e.g., small, medium, large)\n",
    "\n",
    "- Interval: Numerical, ordered, equal spacing, no true zero (e.g., temperature in Celsius)\n",
    "\n",
    "- Ratio: Numerical, ordered, true zero (e.g., weight, height, income)"
   ]
  },
  {
   "cell_type": "markdown",
   "id": "cbbe511e-3bb0-4956-ad3f-7713a8653313",
   "metadata": {},
   "source": [
    "# Q.11) What is the measure of central tendency?\n",
    "Ans:\n",
    "\n",
    "It represents a central or typical value for a dataset.\n",
    "Common measures: Mean, Median, Mode"
   ]
  },
  {
   "cell_type": "markdown",
   "id": "e20d3f93-9ae4-49e1-8912-2b194289f280",
   "metadata": {},
   "source": [
    "# Q.12) Define mean, median, and mode.\n",
    "Ans:\n",
    "\n",
    "- Mean: Average of the data\n",
    "\n",
    "- Median: Middle value when data is sorted\n",
    "\n",
    "- Mode: Most frequently occurring value"
   ]
  },
  {
   "cell_type": "markdown",
   "id": "c12474f6-c699-4bbe-b6aa-e0463b75811e",
   "metadata": {},
   "source": [
    "# Q.13) What is the significance of the measure of central tendency?\n",
    "Ans:\n",
    "\n",
    "It helps understand the central point of a dataset and summarize it with a single value for analysis or comparison."
   ]
  },
  {
   "cell_type": "markdown",
   "id": "4838ddcc-79de-44f2-ad4f-59b007b4d025",
   "metadata": {},
   "source": [
    "# Q.14)  What is variance, and how is it calculated?\n",
    "Ans:\n",
    "\n",
    "Variance measures how far each data point is from the mean.\n",
    "Formula:\n",
    "Variance= n∑(x− xˉ ) 2​\n",
    " \n",
    "Where \n",
    "𝑥\n",
    "x is a data point, \n",
    "𝑥\n",
    "ˉ\n",
    "x\n",
    "ˉ\n",
    "  is the mean, and \n",
    "𝑛\n",
    "n is the number of data points."
   ]
  },
  {
   "cell_type": "markdown",
   "id": "8073a0a1-2d24-4e6b-a868-45f5ad9e7e0e",
   "metadata": {},
   "source": [
    "# Q.15) What is standard deviation, and why is it important?\n",
    "Ans:\n",
    "\n",
    "Skewness measures the asymmetry of data distribution.\n",
    "\n",
    "- Positive skew: Tail on the right\n",
    "\n",
    "- Negative skew: Tail on the left"
   ]
  },
  {
   "cell_type": "markdown",
   "id": "17062925-5189-4517-8210-8b2ee8ebccf5",
   "metadata": {},
   "source": [
    "# Q.16)  Define and explain the term range in statistics.\n",
    "Ans:\n",
    "\n",
    "Standard Deviation measures how spread out the data is around the mean.\n",
    "It's the square root of variance.\n",
    "Important for understanding variability in the data."
   ]
  },
  {
   "cell_type": "markdown",
   "id": "85f3cbed-4f69-4ffd-973b-d356fdc07430",
   "metadata": {},
   "source": [
    "# Q.17) What is the difference between variance and standard deviation?\n",
    "Ans:\n",
    "\n",
    "Range = Maximum value – Minimum value\n",
    "It shows the spread between the lowest and highest data points."
   ]
  },
  {
   "cell_type": "markdown",
   "id": "b555d47e-dea7-4eaa-bf31-315b3aee82fe",
   "metadata": {},
   "source": [
    "# Q.18) What is skewness in a dataset?\n",
    "Ans:\n",
    "\n",
    "- Variance: Measures squared deviation from the mean\n",
    "\n",
    "- Standard Deviation: Square root of variance, more interpretable in original units"
   ]
  },
  {
   "cell_type": "markdown",
   "id": "0a8ee0bc-3aff-47e1-bcf4-4b51e06c2375",
   "metadata": {},
   "source": [
    "# Q.19) What does it mean if a dataset is positively or negatively skewed?\n",
    "Ans:\n",
    "\n",
    "- Positive Skew: Most values are on the left; tail extends to the right\n",
    "\n",
    "- Negative Skew: Most values are on the right; tail extends to the left\n",
    "\n"
   ]
  },
  {
   "cell_type": "markdown",
   "id": "021da922-7063-4750-91bf-b47f73e0d22b",
   "metadata": {},
   "source": [
    "# Q.20) Define and explain kurtosis\n",
    "Ans:\n",
    "\n",
    "Kurtosis measures the \"tailedness\" of the data distribution.\n",
    "\n",
    "High kurtosis: More extreme values (heavy tails)\n",
    "\n",
    "Low kurtosis: Fewer outliers (light tails)"
   ]
  },
  {
   "cell_type": "markdown",
   "id": "0ca86e83-5c8c-4740-8c63-2cc92c86bb5d",
   "metadata": {},
   "source": [
    "# Q.21) What is the purpose of covariance?\n",
    "Ans:\n",
    "\n",
    "Covariance measures how two variables change together.\n",
    "\n",
    "- Positive covariance: Variables increase together\n",
    "\n",
    "- Negative covariance: One increases, other decreases"
   ]
  },
  {
   "cell_type": "markdown",
   "id": "623806ae-e4dc-4bc9-a65e-55c9a6f99a8b",
   "metadata": {},
   "source": [
    "# Q.22)  What does correlation measure in statistics?\n",
    "Ans:\n",
    "\n",
    "Correlation measures the strength and direction of the linear relationship between two variables.\n",
    "Ranges from -1 (perfect negative) to +1 (perfect positive)"
   ]
  },
  {
   "cell_type": "markdown",
   "id": "b5bb8044-a27d-4aa7-b75f-ab5832cb4e68",
   "metadata": {},
   "source": [
    "# Q.23) What is the difference between covariance and correlation?\n",
    "Ans:\n",
    "\n",
    "- Covariance: Only shows direction of relationship\n",
    "\n",
    "- Correlation: Standardized (between -1 and +1), shows both strength and direction"
   ]
  },
  {
   "cell_type": "markdown",
   "id": "86db486c-1fdf-4f7c-abac-e242067d39f3",
   "metadata": {},
   "source": [
    "# Q.24)  What are some real-world applications of statistics?\n",
    "Ans:\n",
    "\n",
    "- Healthcare: Analyzing drug effectiveness\n",
    "\n",
    "- Business: Forecasting sales\n",
    "\n",
    "- Sports: Player performance\n",
    "\n",
    "- Politics: Opinion polls\n",
    "\n",
    "- Education: Student performance tracking\n",
    "\n",
    "- Technology: AI & Machine Learning model training"
   ]
  },
  {
   "cell_type": "markdown",
   "id": "a3d260b7-5122-462c-8a40-f45e31a48b20",
   "metadata": {},
   "source": [
    "# Practical Questions"
   ]
  },
  {
   "cell_type": "markdown",
   "id": "fee4c3ae-cc58-432a-8019-ecc9d4ce6f3b",
   "metadata": {},
   "source": [
    "# Q.1) How do you calculate the mean, median, and mode of a dataset?"
   ]
  },
  {
   "cell_type": "code",
   "execution_count": 143,
   "id": "9fe845dd-75bb-46c4-8ca7-c98f02aadecb",
   "metadata": {},
   "outputs": [
    {
     "name": "stdout",
     "output_type": "stream",
     "text": [
      "Mean: 28.333333333333332\n",
      "Median: 25.0\n",
      "Mode: 20\n"
     ]
    }
   ],
   "source": [
    "import numpy as np\n",
    "from scipy import stats\n",
    "\n",
    "data = [10, 20, 20, 30, 40, 50]\n",
    "\n",
    "mean = np.mean(data)\n",
    "median = np.median(data)\n",
    "mode = stats.mode(data, keepdims=True)\n",
    "\n",
    "print(\"Mean:\", mean)\n",
    "print(\"Median:\", median)\n",
    "print(\"Mode:\", mode.mode[0])\n"
   ]
  },
  {
   "cell_type": "markdown",
   "id": "9c0b86ed-fe86-486a-8e60-c20aa7bf7068",
   "metadata": {},
   "source": [
    "# Q.2)  Write a Python program to compute the variance and standard deviation of a dataset."
   ]
  },
  {
   "cell_type": "code",
   "execution_count": 146,
   "id": "d398431d-16fb-4985-885e-2a10e94afc55",
   "metadata": {},
   "outputs": [
    {
     "name": "stdout",
     "output_type": "stream",
     "text": [
      "Variance: 200.0\n",
      "Standard Deviation: 14.142135623730951\n"
     ]
    }
   ],
   "source": [
    "data = [10, 20, 30, 40, 50]\n",
    "\n",
    "variance = np.var(data)\n",
    "std_dev = np.std(data)\n",
    "\n",
    "print(\"Variance:\", variance)\n",
    "print(\"Standard Deviation:\", std_dev)\n"
   ]
  },
  {
   "cell_type": "markdown",
   "id": "49e8e153-cdf5-4baa-8160-1ad65533b4d3",
   "metadata": {},
   "source": [
    "# Q.3)  Create a dataset and classify it into nominal, ordinal, interval, and ratio types."
   ]
  },
  {
   "cell_type": "code",
   "execution_count": 149,
   "id": "f86d0b0e-9594-45c4-bd58-b824c3227202",
   "metadata": {},
   "outputs": [
    {
     "name": "stdout",
     "output_type": "stream",
     "text": [
      "{'Name': ['John', 'Asha', 'Ali'], 'Education Level': ['High School', 'Graduate', 'Post-Graduate'], 'Temperature (°C)': [20, 25, 30], 'Income (Rs.)': [10000, 25000, 40000]}\n"
     ]
    }
   ],
   "source": [
    "dataset = {\n",
    "    \"Name\": [\"John\", \"Asha\", \"Ali\"],            # Nominal\n",
    "    \"Education Level\": [\"High School\", \"Graduate\", \"Post-Graduate\"],  # Ordinal\n",
    "    \"Temperature (°C)\": [20, 25, 30],           # Interval\n",
    "    \"Income (Rs.)\": [10000, 25000, 40000]       # Ratio\n",
    "}\n",
    "\n",
    "print(dataset)\n"
   ]
  },
  {
   "cell_type": "markdown",
   "id": "b127a020-d894-49ab-9518-3a78c0a6903e",
   "metadata": {},
   "source": [
    "# Q.4)  Implement sampling techniques like random sampling and stratified sampling."
   ]
  },
  {
   "cell_type": "code",
   "execution_count": 152,
   "id": "4f9fc6cb-4065-4b68-a32f-deb299a83610",
   "metadata": {},
   "outputs": [
    {
     "name": "stdout",
     "output_type": "stream",
     "text": [
      "Random Sample:\n",
      "   Name  Marks Category\n",
      "4    E     90        Y\n",
      "5    F    100        X\n",
      "1    B     60        X\n",
      "Stratified Sample:\n",
      "   Name  Marks Category\n",
      "0    A     50        X\n",
      "4    E     90        Y\n",
      "2    C     70        Y\n"
     ]
    }
   ],
   "source": [
    "import pandas as pd\n",
    "from sklearn.model_selection import train_test_split\n",
    "\n",
    "df = pd.DataFrame({\n",
    "    'Name': ['A', 'B', 'C', 'D', 'E', 'F'],\n",
    "    'Marks': [50, 60, 70, 80, 90, 100],\n",
    "    'Category': ['X', 'X', 'Y', 'Y', 'Y', 'X']\n",
    "})\n",
    "\n",
    "# Random Sampling\n",
    "random_sample = df.sample(n=3)\n",
    "print(\"Random Sample:\\n\", random_sample)\n",
    "\n",
    "# Stratified Sampling\n",
    "stratified_sample, _ = train_test_split(df, stratify=df['Category'], test_size=0.5)\n",
    "print(\"Stratified Sample:\\n\", stratified_sample)\n"
   ]
  },
  {
   "cell_type": "markdown",
   "id": "db96a68f-5ac9-4820-b37d-3b6250168b36",
   "metadata": {},
   "source": [
    "# Q.5) Write a Python function to calculate the range of a dataset."
   ]
  },
  {
   "cell_type": "code",
   "execution_count": 155,
   "id": "1667aef8-16f8-4099-a8d0-dbad2149ad84",
   "metadata": {},
   "outputs": [
    {
     "name": "stdout",
     "output_type": "stream",
     "text": [
      "Range: 20\n"
     ]
    }
   ],
   "source": [
    "def calculate_range(data):\n",
    "    return max(data) - min(data)\n",
    "\n",
    "print(\"Range:\", calculate_range([5, 10, 15, 20, 25]))\n"
   ]
  },
  {
   "cell_type": "markdown",
   "id": "2ae8560e-9468-45c0-8b8a-46d29b3bb7cf",
   "metadata": {},
   "source": [
    "# Q.6)  Create a dataset and plot its histogram to visualize skewness,"
   ]
  },
  {
   "cell_type": "code",
   "execution_count": 158,
   "id": "632fc0bd-856e-4318-9c26-630d2355707a",
   "metadata": {},
   "outputs": [
    {
     "data": {
      "image/png": "[encoded data removed]",
      "text/plain": [
       "<Figure size 640x480 with 1 Axes>"
      ]
     },
     "metadata": {},
     "output_type": "display_data"
    }
   ],
   "source": [
    "import matplotlib.pyplot as plt\n",
    "\n",
    "data = [10, 20, 30, 40, 50, 60, 70, 100]\n",
    "\n",
    "plt.hist(data, bins=5)\n",
    "plt.title(\"Histogram\")\n",
    "plt.xlabel(\"Values\")\n",
    "plt.ylabel(\"Frequency\")\n",
    "plt.show()\n"
   ]
  },
  {
   "cell_type": "markdown",
   "id": "1492581d-3df2-4d53-b2fa-3a7615e25f73",
   "metadata": {},
   "source": [
    "# Q.7)  Calculate skewness and kurtosis of a dataset using Python libraries."
   ]
  },
  {
   "cell_type": "code",
   "execution_count": 161,
   "id": "987cd2b8-58a5-4726-97fb-ab428562790a",
   "metadata": {},
   "outputs": [
    {
     "name": "stdout",
     "output_type": "stream",
     "text": [
      "Skewness: 1.0513280892320205\n",
      "Kurtosis: -0.021349099704380592\n"
     ]
    }
   ],
   "source": [
    "from scipy.stats import skew, kurtosis\n",
    "\n",
    "data = [10, 20, 30, 40, 50, 100]\n",
    "\n",
    "print(\"Skewness:\", skew(data))\n",
    "print(\"Kurtosis:\", kurtosis(data))\n"
   ]
  },
  {
   "cell_type": "markdown",
   "id": "7f1246db-ffba-4354-b167-f6a73eaa4b5e",
   "metadata": {},
   "source": [
    "# Q.8) Generate a dataset and demonstrate positive and negative skewness."
   ]
  },
  {
   "cell_type": "code",
   "execution_count": 164,
   "id": "6ba029b6-2a41-4fa9-8647-70ab66d16e2a",
   "metadata": {},
   "outputs": [
    {
     "name": "stdout",
     "output_type": "stream",
     "text": [
      "Positive Skewness: 1.1384199576606167\n",
      "Negative Skewness: -0.8978957037987334\n"
     ]
    }
   ],
   "source": [
    "positive_skew = [10, 20, 30, 40, 100]\n",
    "negative_skew = [100, 90, 80, 70, 30]\n",
    "\n",
    "print(\"Positive Skewness:\", skew(positive_skew))\n",
    "print(\"Negative Skewness:\", skew(negative_skew))\n"
   ]
  },
  {
   "cell_type": "markdown",
   "id": "e3a07528-2033-483c-81a9-b774b6ac2433",
   "metadata": {},
   "source": [
    "# Q.9) Write a Python script to calculate covariance between two datasets."
   ]
  },
  {
   "cell_type": "code",
   "execution_count": 167,
   "id": "5f1c36ff-920c-4842-83f9-ff5b46a3afee",
   "metadata": {},
   "outputs": [
    {
     "name": "stdout",
     "output_type": "stream",
     "text": [
      "Covariance: 12.5\n"
     ]
    }
   ],
   "source": [
    "x = [1, 2, 3, 4, 5]\n",
    "y = [5, 10, 15, 20, 25]\n",
    "\n",
    "cov_matrix = np.cov(x, y)\n",
    "print(\"Covariance:\", cov_matrix[0, 1])\n"
   ]
  },
  {
   "cell_type": "markdown",
   "id": "c18cb179-2e6d-4974-84dc-f4a243705690",
   "metadata": {},
   "source": [
    "# Q.10) Write a Python script to calculate the correlation coefficient between two datasets."
   ]
  },
  {
   "cell_type": "code",
   "execution_count": 170,
   "id": "73232b4d-20bb-4aba-8511-93da2957f00d",
   "metadata": {},
   "outputs": [
    {
     "name": "stdout",
     "output_type": "stream",
     "text": [
      "Correlation Coefficient: 1.0\n"
     ]
    }
   ],
   "source": [
    "correlation = np.corrcoef(x, y)\n",
    "print(\"Correlation Coefficient:\", correlation[0, 1])\n"
   ]
  },
  {
   "cell_type": "markdown",
   "id": "fd98629e-9795-4bdd-a5f2-ec18ff4e1736",
   "metadata": {},
   "source": [
    "# Q.11) Create a scatter plot to visualize the relationship between two variables."
   ]
  },
  {
   "cell_type": "code",
   "execution_count": 173,
   "id": "3a4cface-991d-4e7f-9a1f-5fbcf877338e",
   "metadata": {},
   "outputs": [
    {
     "data": {
      "image/png": "[encoded data removed]",
      "text/plain": [
       "<Figure size 640x480 with 1 Axes>"
      ]
     },
     "metadata": {},
     "output_type": "display_data"
    }
   ],
   "source": [
    "plt.scatter(x, y)\n",
    "plt.title(\"Scatter Plot\")\n",
    "plt.xlabel(\"X\")\n",
    "plt.ylabel(\"Y\")\n",
    "plt.show()\n"
   ]
  },
  {
   "cell_type": "markdown",
   "id": "7514fb76-2e9a-44bb-8cc1-183ff589cdc1",
   "metadata": {},
   "source": [
    "# Q.12)  Implement and compare simple random sampling and systematic sampling."
   ]
  },
  {
   "cell_type": "code",
   "execution_count": 176,
   "id": "a89c1dfd-30ba-444c-8aee-4b00170661c2",
   "metadata": {},
   "outputs": [
    {
     "name": "stdout",
     "output_type": "stream",
     "text": [
      "Random Sample: [16, 8, 20, 6, 2]\n",
      "Systematic Sample: [1, 5, 9, 13, 17]\n"
     ]
    }
   ],
   "source": [
    "import random\n",
    "\n",
    "data = list(range(1, 21))  # 1 to 20\n",
    "\n",
    "# Simple Random\n",
    "random_sample = random.sample(data, 5)\n",
    "print(\"Random Sample:\", random_sample)\n",
    "\n",
    "# Systematic Sampling\n",
    "k = 4  # every 4th item\n",
    "systematic_sample = data[::k]\n",
    "print(\"Systematic Sample:\", systematic_sample)\n"
   ]
  },
  {
   "cell_type": "markdown",
   "id": "8333af62-b9c2-4fc2-a60b-7f2c73575eca",
   "metadata": {},
   "source": [
    "# Q.13) Calculate the mean, median, and mode of grouped data."
   ]
  },
  {
   "cell_type": "code",
   "execution_count": 179,
   "id": "ba7df54a-e8cd-40e7-b41e-d1a73364716f",
   "metadata": {},
   "outputs": [
    {
     "name": "stdout",
     "output_type": "stream",
     "text": [
      "Mean: 27.5\n",
      "Median: 25.0\n",
      "Mode: 10\n"
     ]
    }
   ],
   "source": [
    "import pandas as pd\n",
    "\n",
    "group_data = pd.Series([10, 10, 20, 20, 30, 40, 40, 50])\n",
    "\n",
    "print(\"Mean:\", group_data.mean())\n",
    "print(\"Median:\", group_data.median())\n",
    "print(\"Mode:\", group_data.mode()[0])\n"
   ]
  },
  {
   "cell_type": "markdown",
   "id": "e1bcaf57-56e6-46d6-8505-f8af212ecde8",
   "metadata": {},
   "source": [
    "# Q.14) Simulate data using Python and calculate its central tendency and dispersion."
   ]
  },
  {
   "cell_type": "code",
   "execution_count": 182,
   "id": "98b7f249-f13d-40e1-80af-2441265d4b90",
   "metadata": {},
   "outputs": [
    {
     "name": "stdout",
     "output_type": "stream",
     "text": [
      "Data: [16 54 85 56 44 41 25 69 98 33 53 88 35 67 45 59 15 51 27 29]\n",
      "Mean: 49.5\n",
      "Std Dev: 22.79583295253762\n"
     ]
    }
   ],
   "source": [
    "import numpy as np\n",
    "\n",
    "sim_data = np.random.randint(10, 100, 20)\n",
    "\n",
    "print(\"Data:\", sim_data)\n",
    "print(\"Mean:\", np.mean(sim_data))\n",
    "print(\"Std Dev:\", np.std(sim_data))\n"
   ]
  },
  {
   "cell_type": "markdown",
   "id": "1a3fb465-7211-49d0-9850-bc70efe475eb",
   "metadata": {},
   "source": [
    "# Q.15) Use NumPy or pandas to summarize a dataset’s descriptive statistics."
   ]
  },
  {
   "cell_type": "code",
   "execution_count": 185,
   "id": "771ec653-7112-4a17-b37f-b18a3d9be4c3",
   "metadata": {},
   "outputs": [
    {
     "name": "stdout",
     "output_type": "stream",
     "text": [
      "             Age\n",
      "count   7.000000\n",
      "mean   23.571429\n",
      "std     3.309438\n",
      "min    20.000000\n",
      "25%    21.500000\n",
      "50%    23.000000\n",
      "75%    24.500000\n",
      "max    30.000000\n"
     ]
    }
   ],
   "source": [
    "import pandas as pd\n",
    "\n",
    "df = pd.DataFrame({'Age': [20, 21, 22, 23, 24, 25, 30]})\n",
    "print(df.describe())\n"
   ]
  },
  {
   "cell_type": "markdown",
   "id": "8bf8308d-1c47-497e-a62a-4e8732a48418",
   "metadata": {},
   "source": [
    "# Q.16) Plot a boxplot to understand the spread and identify outliers."
   ]
  },
  {
   "cell_type": "code",
   "execution_count": 188,
   "id": "cc8ead99-d2d5-4ada-84bc-3b6653a74388",
   "metadata": {},
   "outputs": [
    {
     "data": {
      "image/png": "[encoded data removed]",
      "text/plain": [
       "<Figure size 640x480 with 1 Axes>"
      ]
     },
     "metadata": {},
     "output_type": "display_data"
    }
   ],
   "source": [
    "plt.boxplot(df['Age'])\n",
    "plt.title(\"Boxplot of Age\")\n",
    "plt.show()\n"
   ]
  },
  {
   "cell_type": "markdown",
   "id": "9f1d4b77-9aa5-4897-b402-413af7801f98",
   "metadata": {},
   "source": [
    "# Q.17) Calculate the interquartile range (IQR) of a dataset."
   ]
  },
  {
   "cell_type": "code",
   "execution_count": 191,
   "id": "dcb9db84-dd7b-439a-93e3-a5e38d29a240",
   "metadata": {},
   "outputs": [
    {
     "name": "stdout",
     "output_type": "stream",
     "text": [
      "IQR: 3.0\n"
     ]
    }
   ],
   "source": [
    "Q1 = df['Age'].quantile(0.25)\n",
    "Q3 = df['Age'].quantile(0.75)\n",
    "IQR = Q3 - Q1\n",
    "print(\"IQR:\", IQR)\n"
   ]
  },
  {
   "cell_type": "markdown",
   "id": "8c1de396-3106-4631-84a2-1642f8b7897e",
   "metadata": {},
   "source": [
    "# Q.18) Implement Z-score normalization and explain its significance."
   ]
  },
  {
   "cell_type": "code",
   "execution_count": 194,
   "id": "52b35c52-017a-42d1-9d69-0f02243c363c",
   "metadata": {},
   "outputs": [
    {
     "name": "stdout",
     "output_type": "stream",
     "text": [
      "   Age    Zscore\n",
      "0   20 -1.165631\n",
      "1   21 -0.839254\n",
      "2   22 -0.512878\n",
      "3   23 -0.186501\n",
      "4   24  0.139876\n",
      "5   25  0.466252\n",
      "6   30  2.098136\n"
     ]
    }
   ],
   "source": [
    "from scipy.stats import zscore\n",
    "\n",
    "df['Zscore'] = zscore(df['Age'])\n",
    "print(df)\n"
   ]
  },
  {
   "cell_type": "markdown",
   "id": "04af74b0-78a9-457a-bbe8-9cfebd79eee1",
   "metadata": {},
   "source": [
    "# Q.19)  Compare two datasets using their standard deviations."
   ]
  },
  {
   "cell_type": "code",
   "execution_count": 197,
   "id": "e393b618-3591-4ccf-9083-d8204bba8597",
   "metadata": {},
   "outputs": [
    {
     "name": "stdout",
     "output_type": "stream",
     "text": [
      "STD Dataset 1: 11.180339887498949\n",
      "STD Dataset 2: 32.08874413248359\n"
     ]
    }
   ],
   "source": [
    "data1 = [10, 20, 30, 40]\n",
    "data2 = [15, 50, 80, 100]\n",
    "\n",
    "print(\"STD Dataset 1:\", np.std(data1))\n",
    "print(\"STD Dataset 2:\", np.std(data2))\n"
   ]
  },
  {
   "cell_type": "markdown",
   "id": "f48f812d-216d-4e7a-a8f2-69c3b4482f1a",
   "metadata": {},
   "source": [
    "# Q.20)  Write a Python program to visualize covariance using a heatmap."
   ]
  },
  {
   "cell_type": "code",
   "execution_count": 200,
   "id": "28d14e2b-c586-433c-9219-b065db7f154c",
   "metadata": {},
   "outputs": [
    {
     "data": {
      "image/png": "[encoded data removed]",
      "text/plain": [
       "<Figure size 640x480 with 2 Axes>"
      ]
     },
     "metadata": {},
     "output_type": "display_data"
    }
   ],
   "source": [
    "import seaborn as sns\n",
    "import pandas as pd\n",
    "\n",
    "data = pd.DataFrame({'X': x, 'Y': y})\n",
    "cov_matrix = data.cov()\n",
    "\n",
    "sns.heatmap(cov_matrix, annot=True)\n",
    "plt.title(\"Covariance Heatmap\")\n",
    "plt.show()\n"
   ]
  },
  {
   "cell_type": "markdown",
   "id": "92192404-4a12-45df-b3fb-d64b4b69fbea",
   "metadata": {},
   "source": [
    "# Q.21)  Use seaborn to create a correlation matrix for a dataset."
   ]
  },
  {
   "cell_type": "code",
   "execution_count": 203,
   "id": "395aff85-d904-4b1e-b219-6c8b26efb3dd",
   "metadata": {},
   "outputs": [
    {
     "data": {
      "image/png": "[encoded data removed]",
      "text/plain": [
       "<Figure size 640x480 with 2 Axes>"
      ]
     },
     "metadata": {},
     "output_type": "display_data"
    }
   ],
   "source": [
    "corr_matrix = data.corr()\n",
    "sns.heatmap(corr_matrix, annot=True)\n",
    "plt.title(\"Correlation Matrix\")\n",
    "plt.show()\n"
   ]
  },
  {
   "cell_type": "markdown",
   "id": "2e454de1-6842-46dd-9b6e-9af63ae1a5b2",
   "metadata": {},
   "source": [
    "# Q.22)  Generate a dataset and implement both variance and standard deviation computations."
   ]
  },
  {
   "cell_type": "code",
   "execution_count": 206,
   "id": "fa520d03-de94-491b-856e-53f86f492ce7",
   "metadata": {},
   "outputs": [
    {
     "name": "stdout",
     "output_type": "stream",
     "text": [
      "Variance: 50.0\n",
      "Standard Deviation: 7.0710678118654755\n"
     ]
    }
   ],
   "source": [
    "data = [5, 10, 15, 20, 25]\n",
    "print(\"Variance:\", np.var(data))\n",
    "print(\"Standard Deviation:\", np.std(data))\n"
   ]
  },
  {
   "cell_type": "markdown",
   "id": "dda9fbaf-a565-4d17-95ca-6b7fc86f945c",
   "metadata": {},
   "source": [
    "# Q.23)  Visualize skewness and kurtosis using Python libraries like matplotlib or seaborn."
   ]
  },
  {
   "cell_type": "code",
   "execution_count": 209,
   "id": "4013a03a-d430-479e-8e6d-947129768b3f",
   "metadata": {},
   "outputs": [
    {
     "data": {
      "image/png": "[encoded data removed]",
      "text/plain": [
       "<Figure size 640x480 with 1 Axes>"
      ]
     },
     "metadata": {},
     "output_type": "display_data"
    }
   ],
   "source": [
    "sns.histplot(data, kde=True)\n",
    "plt.title(\"Distribution Plot with Skewness & Kurtosis\")\n",
    "plt.show()\n"
   ]
  },
  {
   "cell_type": "markdown",
   "id": "12ee76bc-1e14-469a-b9ad-392e00093c98",
   "metadata": {},
   "source": [
    "# Q.24)  Implement the Pearson and Spearman correlation coefficients for a dataset."
   ]
  },
  {
   "cell_type": "code",
   "execution_count": 212,
   "id": "e0f63393-14de-4701-ac7b-194f328ab537",
   "metadata": {},
   "outputs": [
    {
     "name": "stdout",
     "output_type": "stream",
     "text": [
      "Pearson Correlation: 1.0\n",
      "Spearman Correlation: 0.9999999999999999\n"
     ]
    }
   ],
   "source": [
    "from scipy.stats import pearsonr, spearmanr\n",
    "\n",
    "pearson_corr, _ = pearsonr(x, y)\n",
    "spearman_corr, _ = spearmanr(x, y)\n",
    "\n",
    "print(\"Pearson Correlation:\", pearson_corr)\n",
    "print(\"Spearman Correlation:\", spearman_corr)\n"
   ]
  }
 ],
 "metadata": {
  "kernelspec": {
   "display_name": "Python 3 (ipykernel)",
   "language": "python",
   "name": "python3"
  },
  "language_info": {
   "codemirror_mode": {
    "name": "ipython",
    "version": 3
   },
   "file_extension": ".py",
   "mimetype": "text/x-python",
   "name": "python",
   "nbconvert_exporter": "python",
   "pygments_lexer": "ipython3",
   "version": "3.12.7"
  }
 },
 "nbformat": 4,
 "nbformat_minor": 5
}
